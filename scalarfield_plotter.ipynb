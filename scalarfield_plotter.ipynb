import numpy as np
import matplotlib.pyplot as plt
# Importing Packages
import numpy as np
import matplotlib.pyplot as plt
from mpl_toolkits.mplot3d import Axes3D
from matplotlib import animation
from matplotlib.animation import FuncAnimation 
import ffmpeg
import random



# Loading in the solutiona arrays

# Time Array
t = np.load('disc_t.npy')

# Position Array
r = np.load('disc_r.npy')

# Solutions
solu = np.load('solu.npy')
solv = np.load('solv.npy')



# This is the function which creates the animation

def animate(i, x=[], y=[]):
    
    #print(i)
    
    plt.cla()
    
    x.append(i)
    
    plt.plot(r, solv[:,i], c='r', lw=0.5, label=r'P$_{\phi}$')
    plt.plot(r, solu[:,i], c='k', label=r'$\phi$')
    plt.xlim(min(r), max(r))
    plt.ylim(-1e6, 1e6)
    plt.legend()
    plt.xlabel('r')
    plt.yscale('symlog')
    plt.annotate('t = ' + str(t[i]), (5, 1e5))


if __name__ == "__main__":
    fig = plt.figure()
    ani = FuncAnimation(fig, animate, frames=len(t), interval=1000)
    #plt.show()
    
FFwriter=animation.FFMpegWriter(fps=30)


# Saving the plot as a gif

ani.save('test8.gif', writer=FFwriter)
